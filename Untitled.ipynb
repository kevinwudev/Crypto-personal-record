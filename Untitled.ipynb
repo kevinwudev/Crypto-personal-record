{
 "cells": [
  {
   "cell_type": "code",
   "execution_count": 2,
   "id": "2b746010-c81d-44b1-b980-bba44f66d458",
   "metadata": {},
   "outputs": [],
   "source": [
    "import ccxt\n",
    "import polars as pl\n",
    "from typing import Dict, List\n",
    "import os\n",
    "from datetime import datetime"
   ]
  },
  {
   "cell_type": "code",
   "execution_count": 16,
   "id": "9eff9580-d85d-4fb8-9622-7602f7861f7e",
   "metadata": {},
   "outputs": [],
   "source": [
    "api_key = os.getenv('OKX_API_KEY')\n",
    "secret = os.getenv('OKX_SECRET')\n",
    "password = os.getenv('OKX_PASSWORD')"
   ]
  },
  {
   "cell_type": "code",
   "execution_count": null,
   "id": "92879be7-afd9-46d2-901b-ac5032be6b02",
   "metadata": {},
   "outputs": [],
   "source": []
  },
  {
   "cell_type": "code",
   "execution_count": 20,
   "id": "a02a2935-2d15-41ed-81f2-c1138e47fa8f",
   "metadata": {},
   "outputs": [],
   "source": [
    "api_key = '0e1a38a4-60f6-4f6d-89c6-a2030ffa3b58'\n",
    "secret = '27626941CD32624B05D0283DC8E01F9E'\n",
    "password = 'Kuan-0725'"
   ]
  },
  {
   "cell_type": "code",
   "execution_count": 21,
   "id": "5879d27a-dadf-4a00-85ad-27247e096231",
   "metadata": {},
   "outputs": [],
   "source": [
    "exchange = get_okx_client(api_key, secret, password)"
   ]
  },
  {
   "cell_type": "code",
   "execution_count": 41,
   "id": "94d1a39d-03a1-4a69-93cf-368949d976af",
   "metadata": {},
   "outputs": [
    {
     "data": {
      "text/plain": [
       "ccxt.okx()"
      ]
     },
     "execution_count": 41,
     "metadata": {},
     "output_type": "execute_result"
    }
   ],
   "source": [
    "exchange"
   ]
  },
  {
   "cell_type": "code",
   "execution_count": 14,
   "id": "3ecf136d-61db-4cc3-bde3-1839c0dd444d",
   "metadata": {},
   "outputs": [],
   "source": [
    "def get_okx_client(api_key: str, secret: str, password: str) -> ccxt.okx:\n",
    "    \"\"\"初始化OKX API客戶端\"\"\"\n",
    "    return ccxt.okx({\n",
    "        'apiKey': api_key,\n",
    "        'secret': secret,\n",
    "        'password': password,\n",
    "        'enableRateLimit': True\n",
    "    })\n",
    "\n",
    "def fetch_positions(exchange: ccxt.okx) -> List[Dict]:\n",
    "    \"\"\"獲取持倉信息\"\"\"\n",
    "    positions = exchange.privateGetAccountPositions()['data']\n",
    "    return [\n",
    "        {\n",
    "            'symbol': pos['instId'],\n",
    "            'size': float(pos['pos']),\n",
    "            'entry_price': float(pos['avgPx']),\n",
    "            'current_price': float(pos['last']),\n",
    "            'unrealized_pnl': float(pos['upl']),\n",
    "            'margin': float(pos['margin']),\n",
    "            'leverage': float(pos['lever'])\n",
    "        }\n",
    "        for pos in positions if float(pos['pos']) != 0\n",
    "    ]"
   ]
  },
  {
   "cell_type": "code",
   "execution_count": 63,
   "id": "970bc86c-b6d1-4b03-8a75-fdd3c1d72272",
   "metadata": {},
   "outputs": [],
   "source": [
    "positions = fetch_positions(exchange)"
   ]
  },
  {
   "cell_type": "code",
   "execution_count": 40,
   "id": "4119153e-bc4b-476f-9969-314aaaf7306d",
   "metadata": {},
   "outputs": [
    {
     "data": {
      "text/html": [
       "<div><style>\n",
       ".dataframe > thead > tr,\n",
       ".dataframe > tbody > tr {\n",
       "  text-align: right;\n",
       "  white-space: pre-wrap;\n",
       "}\n",
       "</style>\n",
       "<small>shape: (3, 61)</small><table border=\"1\" class=\"dataframe\"><thead><tr><th>adl</th><th>availPos</th><th>avgPx</th><th>baseBal</th><th>baseBorrowed</th><th>baseInterest</th><th>bePx</th><th>bizRefId</th><th>bizRefType</th><th>cTime</th><th>ccy</th><th>clSpotInUseAmt</th><th>closeOrderAlgo</th><th>deltaBS</th><th>deltaPA</th><th>fee</th><th>fundingFee</th><th>gammaBS</th><th>gammaPA</th><th>idxPx</th><th>imr</th><th>instId</th><th>instType</th><th>interest</th><th>last</th><th>lever</th><th>liab</th><th>liabCcy</th><th>liqPenalty</th><th>liqPx</th><th>margin</th><th>markPx</th><th>maxSpotInUseAmt</th><th>mgnMode</th><th>mgnRatio</th><th>mmr</th><th>notionalUsd</th><th>optVal</th><th>pendingCloseOrdLiabVal</th><th>pnl</th><th>pos</th><th>posCcy</th><th>posId</th><th>posSide</th><th>quoteBal</th><th>quoteBorrowed</th><th>quoteInterest</th><th>realizedPnl</th><th>spotInUseAmt</th><th>spotInUseCcy</th><th>thetaBS</th><th>thetaPA</th><th>tradeId</th><th>uTime</th><th>upl</th><th>uplLastPx</th><th>uplRatio</th><th>uplRatioLastPx</th><th>usdPx</th><th>vegaBS</th><th>vegaPA</th></tr><tr><td>str</td><td>str</td><td>str</td><td>str</td><td>str</td><td>str</td><td>str</td><td>str</td><td>str</td><td>str</td><td>str</td><td>str</td><td>list[null]</td><td>str</td><td>str</td><td>str</td><td>str</td><td>str</td><td>str</td><td>str</td><td>str</td><td>str</td><td>str</td><td>str</td><td>str</td><td>str</td><td>str</td><td>str</td><td>str</td><td>str</td><td>str</td><td>str</td><td>str</td><td>str</td><td>str</td><td>str</td><td>str</td><td>str</td><td>str</td><td>str</td><td>str</td><td>str</td><td>str</td><td>str</td><td>str</td><td>str</td><td>str</td><td>str</td><td>str</td><td>str</td><td>str</td><td>str</td><td>str</td><td>str</td><td>str</td><td>str</td><td>str</td><td>str</td><td>str</td><td>str</td><td>str</td></tr></thead><tbody><tr><td>&quot;1&quot;</td><td>&quot;3.6&quot;</td><td>&quot;0.167&quot;</td><td>&quot;&quot;</td><td>&quot;&quot;</td><td>&quot;&quot;</td><td>&quot;0.1675027147016927&quot;</td><td>&quot;&quot;</td><td>&quot;&quot;</td><td>&quot;1730169415174&quot;</td><td>&quot;USDT&quot;</td><td>&quot;&quot;</td><td>[]</td><td>&quot;&quot;</td><td>&quot;&quot;</td><td>&quot;-0.12024&quot;</td><td>&quot;-1.3880280396307032&quot;</td><td>&quot;&quot;</td><td>&quot;&quot;</td><td>&quot;0.1583500000000000&quot;</td><td>&quot;&quot;</td><td>&quot;DOGE-USDT-SWAP&quot;</td><td>&quot;SWAP&quot;</td><td>&quot;&quot;</td><td>&quot;0.1584&quot;</td><td>&quot;3&quot;</td><td>&quot;&quot;</td><td>&quot;&quot;</td><td>&quot;0&quot;</td><td>&quot;0.1125164417700657&quot;</td><td>&quot;199.0119719603692968&quot;</td><td>&quot;0.15838&quot;</td><td>&quot;&quot;</td><td>&quot;isolated&quot;</td><td>&quot;42.087838762402164&quot;</td><td>&quot;3.7060919999999995&quot;</td><td>&quot;570.03686136&quot;</td><td>&quot;&quot;</td><td>&quot;&quot;</td><td>&quot;0&quot;</td><td>&quot;3.6&quot;</td><td>&quot;&quot;</td><td>&quot;1934983939330048000&quot;</td><td>&quot;long&quot;</td><td>&quot;&quot;</td><td>&quot;&quot;</td><td>&quot;&quot;</td><td>&quot;-1.508268039630703&quot;</td><td>&quot;&quot;</td><td>&quot;&quot;</td><td>&quot;&quot;</td><td>&quot;&quot;</td><td>&quot;430178870&quot;</td><td>&quot;1730563200310&quot;</td><td>&quot;-31.03200000000006&quot;</td><td>&quot;-30.959999999999987&quot;</td><td>&quot;-0.1548502994011978&quot;</td><td>&quot;-0.1544910179640719&quot;</td><td>&quot;&quot;</td><td>&quot;&quot;</td><td>&quot;&quot;</td></tr><tr><td>&quot;1&quot;</td><td>&quot;3.8&quot;</td><td>&quot;2571.9426315789473685&quot;</td><td>&quot;&quot;</td><td>&quot;&quot;</td><td>&quot;&quot;</td><td>&quot;2577.7335732467664&quot;</td><td>&quot;&quot;</td><td>&quot;&quot;</td><td>&quot;1730034490460&quot;</td><td>&quot;USDT&quot;</td><td>&quot;&quot;</td><td>[]</td><td>&quot;&quot;</td><td>&quot;&quot;</td><td>&quot;-0.20290365&quot;</td><td>&quot;-1.5078848048543139&quot;</td><td>&quot;&quot;</td><td>&quot;&quot;</td><td>&quot;2488.1300000000000000&quot;</td><td>&quot;&quot;</td><td>&quot;ETH-USDT-SWAP&quot;</td><td>&quot;SWAP&quot;</td><td>&quot;&quot;</td><td>&quot;2488.12&quot;</td><td>&quot;3&quot;</td><td>&quot;&quot;</td><td>&quot;&quot;</td><td>&quot;0&quot;</td><td>&quot;1726.3199176686899&quot;</td><td>&quot;324.2924212451113416&quot;</td><td>&quot;2488.21&quot;</td><td>&quot;&quot;</td><td>&quot;isolated&quot;</td><td>&quot;68.73914955917164&quot;</td><td>&quot;3.7820792&quot;</td><td>&quot;945.302330446&quot;</td><td>&quot;&quot;</td><td>&quot;&quot;</td><td>&quot;0&quot;</td><td>&quot;3.8&quot;</td><td>&quot;&quot;</td><td>&quot;1930456617189015553&quot;</td><td>&quot;long&quot;</td><td>&quot;&quot;</td><td>&quot;&quot;</td><td>&quot;&quot;</td><td>&quot;-1.710788454854314&quot;</td><td>&quot;&quot;</td><td>&quot;&quot;</td><td>&quot;&quot;</td><td>&quot;&quot;</td><td>&quot;1475926447&quot;</td><td>&quot;1730563200972&quot;</td><td>&quot;-31.818399999999993&quot;</td><td>&quot;-31.85260000000005&quot;</td><td>&quot;-0.0976685450338481&quot;</td><td>&quot;-0.0977735240472544&quot;</td><td>&quot;&quot;</td><td>&quot;&quot;</td><td>&quot;&quot;</td></tr><tr><td>&quot;1&quot;</td><td>&quot;6.2&quot;</td><td>&quot;69298.3870967741935485&quot;</td><td>&quot;&quot;</td><td>&quot;&quot;</td><td>&quot;&quot;</td><td>&quot;69496.60888792483&quot;</td><td>&quot;&quot;</td><td>&quot;&quot;</td><td>&quot;1729786306867&quot;</td><td>&quot;USDT&quot;</td><td>&quot;&quot;</td><td>[]</td><td>&quot;&quot;</td><td>&quot;&quot;</td><td>&quot;-0.8593&quot;</td><td>&quot;-9.27605617581362&quot;</td><td>&quot;&quot;</td><td>&quot;&quot;</td><td>&quot;69443.1000000000000000&quot;</td><td>&quot;&quot;</td><td>&quot;BTC-USDT-SWAP&quot;</td><td>&quot;SWAP&quot;</td><td>&quot;&quot;</td><td>&quot;69449.6&quot;</td><td>&quot;4&quot;</td><td>&quot;&quot;</td><td>&quot;&quot;</td><td>&quot;0&quot;</td><td>&quot;52359.11972061071&quot;</td><td>&quot;1064.8489438241863804&quot;</td><td>&quot;69449&quot;</td><td>&quot;&quot;</td><td>&quot;isolated&quot;</td><td>&quot;55.438270027508686&quot;</td><td>&quot;17.223352000000002&quot;</td><td>&quot;4304.847657260001&quot;</td><td>&quot;&quot;</td><td>&quot;&quot;</td><td>&quot;0&quot;</td><td>&quot;6.2&quot;</td><td>&quot;&quot;</td><td>&quot;1922128957694181380&quot;</td><td>&quot;long&quot;</td><td>&quot;&quot;</td><td>&quot;&quot;</td><td>&quot;&quot;</td><td>&quot;-10.13535617581362&quot;</td><td>&quot;&quot;</td><td>&quot;&quot;</td><td>&quot;&quot;</td><td>&quot;&quot;</td><td>&quot;1093058044&quot;</td><td>&quot;1730563200542&quot;</td><td>&quot;9.337999999999797&quot;</td><td>&quot;9.375200000000158&quot;</td><td>&quot;0.008693587804026&quot;</td><td>&quot;0.008728220644711&quot;</td><td>&quot;&quot;</td><td>&quot;&quot;</td><td>&quot;&quot;</td></tr></tbody></table></div>"
      ],
      "text/plain": [
       "shape: (3, 61)\n",
       "┌─────┬──────────┬────────────────────┬─────────┬───┬────────────────────┬───────┬────────┬────────┐\n",
       "│ adl ┆ availPos ┆ avgPx              ┆ baseBal ┆ … ┆ uplRatioLastPx     ┆ usdPx ┆ vegaBS ┆ vegaPA │\n",
       "│ --- ┆ ---      ┆ ---                ┆ ---     ┆   ┆ ---                ┆ ---   ┆ ---    ┆ ---    │\n",
       "│ str ┆ str      ┆ str                ┆ str     ┆   ┆ str                ┆ str   ┆ str    ┆ str    │\n",
       "╞═════╪══════════╪════════════════════╪═════════╪═══╪════════════════════╪═══════╪════════╪════════╡\n",
       "│ 1   ┆ 3.6      ┆ 0.167              ┆         ┆ … ┆ -0.154491017964071 ┆       ┆        ┆        │\n",
       "│     ┆          ┆                    ┆         ┆   ┆ 9                  ┆       ┆        ┆        │\n",
       "│ 1   ┆ 3.8      ┆ 2571.9426315789473 ┆         ┆ … ┆ -0.097773524047254 ┆       ┆        ┆        │\n",
       "│     ┆          ┆ 685                ┆         ┆   ┆ 4                  ┆       ┆        ┆        │\n",
       "│ 1   ┆ 6.2      ┆ 69298.387096774193 ┆         ┆ … ┆ 0.008728220644711  ┆       ┆        ┆        │\n",
       "│     ┆          ┆ 5485               ┆         ┆   ┆                    ┆       ┆        ┆        │\n",
       "└─────┴──────────┴────────────────────┴─────────┴───┴────────────────────┴───────┴────────┴────────┘"
      ]
     },
     "execution_count": 40,
     "metadata": {},
     "output_type": "execute_result"
    }
   ],
   "source": [
    "pl.DataFrame(positions)"
   ]
  },
  {
   "cell_type": "code",
   "execution_count": 58,
   "id": "91de4187-0530-452d-9f1d-479c85765379",
   "metadata": {},
   "outputs": [
    {
     "name": "stdout",
     "output_type": "stream",
     "text": [
      "7\n",
      "7\n",
      "7\n"
     ]
    }
   ],
   "source": [
    "for pos in positions:\n",
    "    print(len(pos))"
   ]
  },
  {
   "cell_type": "code",
   "execution_count": 61,
   "id": "9cfbb733-1db2-4ba3-ae65-54ff0ff5c715",
   "metadata": {},
   "outputs": [
    {
     "data": {
      "text/html": [
       "<div><style>\n",
       ".dataframe > thead > tr,\n",
       ".dataframe > tbody > tr {\n",
       "  text-align: right;\n",
       "  white-space: pre-wrap;\n",
       "}\n",
       "</style>\n",
       "<small>shape: (3, 7)</small><table border=\"1\" class=\"dataframe\"><thead><tr><th>symbol</th><th>size</th><th>entry_price</th><th>current_price</th><th>unrealized_pnl</th><th>margin</th><th>leverage</th></tr><tr><td>str</td><td>f64</td><td>f64</td><td>f64</td><td>f64</td><td>f64</td><td>f64</td></tr></thead><tbody><tr><td>&quot;DOGE-USDT-SWAP&quot;</td><td>3.6</td><td>0.167</td><td>0.15924</td><td>-27.972</td><td>199.011972</td><td>3.0</td></tr><tr><td>&quot;ETH-USDT-SWAP&quot;</td><td>3.8</td><td>2571.942632</td><td>2490.86</td><td>-30.8532</td><td>324.292421</td><td>3.0</td></tr><tr><td>&quot;BTC-USDT-SWAP&quot;</td><td>6.2</td><td>69298.387097</td><td>69491.9</td><td>12.0226</td><td>1064.848944</td><td>4.0</td></tr></tbody></table></div>"
      ],
      "text/plain": [
       "shape: (3, 7)\n",
       "┌────────────────┬──────┬──────────────┬───────────────┬────────────────┬─────────────┬──────────┐\n",
       "│ symbol         ┆ size ┆ entry_price  ┆ current_price ┆ unrealized_pnl ┆ margin      ┆ leverage │\n",
       "│ ---            ┆ ---  ┆ ---          ┆ ---           ┆ ---            ┆ ---         ┆ ---      │\n",
       "│ str            ┆ f64  ┆ f64          ┆ f64           ┆ f64            ┆ f64         ┆ f64      │\n",
       "╞════════════════╪══════╪══════════════╪═══════════════╪════════════════╪═════════════╪══════════╡\n",
       "│ DOGE-USDT-SWAP ┆ 3.6  ┆ 0.167        ┆ 0.15924       ┆ -27.972        ┆ 199.011972  ┆ 3.0      │\n",
       "│ ETH-USDT-SWAP  ┆ 3.8  ┆ 2571.942632  ┆ 2490.86       ┆ -30.8532       ┆ 324.292421  ┆ 3.0      │\n",
       "│ BTC-USDT-SWAP  ┆ 6.2  ┆ 69298.387097 ┆ 69491.9       ┆ 12.0226        ┆ 1064.848944 ┆ 4.0      │\n",
       "└────────────────┴──────┴──────────────┴───────────────┴────────────────┴─────────────┴──────────┘"
      ]
     },
     "execution_count": 61,
     "metadata": {},
     "output_type": "execute_result"
    }
   ],
   "source": [
    "pl.DataFrame(positions)"
   ]
  },
  {
   "cell_type": "code",
   "execution_count": 64,
   "id": "9e33c62c-2f80-40ce-b3e0-51dc11e54b3d",
   "metadata": {},
   "outputs": [
    {
     "data": {
      "text/plain": [
       "[{'symbol': 'DOGE-USDT-SWAP',\n",
       "  'size': 3.6,\n",
       "  'entry_price': 0.167,\n",
       "  'current_price': 0.15899,\n",
       "  'unrealized_pnl': -28.872,\n",
       "  'margin': 199.0119719603693,\n",
       "  'leverage': 3.0},\n",
       " {'symbol': 'ETH-USDT-SWAP',\n",
       "  'size': 3.8,\n",
       "  'entry_price': 2571.9426315789474,\n",
       "  'current_price': 2488.37,\n",
       "  'unrealized_pnl': -31.761399999999956,\n",
       "  'margin': 324.2924212451113,\n",
       "  'leverage': 3.0},\n",
       " {'symbol': 'BTC-USDT-SWAP',\n",
       "  'size': 6.2,\n",
       "  'entry_price': 69298.3870967742,\n",
       "  'current_price': 69471.7,\n",
       "  'unrealized_pnl': 10.739200000000158,\n",
       "  'margin': 1064.8489438241863,\n",
       "  'leverage': 4.0}]"
      ]
     },
     "execution_count": 64,
     "metadata": {},
     "output_type": "execute_result"
    }
   ],
   "source": [
    "positions"
   ]
  }
 ],
 "metadata": {
  "kernelspec": {
   "display_name": "Python 3 (ipykernel)",
   "language": "python",
   "name": "python3"
  },
  "language_info": {
   "codemirror_mode": {
    "name": "ipython",
    "version": 3
   },
   "file_extension": ".py",
   "mimetype": "text/x-python",
   "name": "python",
   "nbconvert_exporter": "python",
   "pygments_lexer": "ipython3",
   "version": "3.9.18"
  }
 },
 "nbformat": 4,
 "nbformat_minor": 5
}
